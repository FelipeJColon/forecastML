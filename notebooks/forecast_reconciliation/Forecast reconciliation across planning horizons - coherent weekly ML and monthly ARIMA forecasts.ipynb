{
 "cells": [
  {
   "cell_type": "markdown",
   "metadata": {},
   "source": [
    "# Temporal Forecast Reconciliation in `forecastML`\n",
    "### *Nick Redell* nickalusredell@gmail.com\n",
    "### 2020-05-21\n",
    "\n",
    "***\n",
    "\n",
    "# Purpose\n",
    "\n",
    "The goal of this notebook is demonstrate how machine learning and statistical forecasts can be reconciled to produce a coherent forecast over various planning horizons (e.g., monthly and annually). Using (a) ML methods to forecast time series with higher frequencies (e.g., weekly) and lots of data and (b) statistical methods to forecast time series with lower frequencies (e.g., quarterly) is a complementary approach to forecasting.\n",
    "\n",
    "The benefits of temporal forecast reconciliation are two-fold:\n",
    "   1. **Improved forecast accuracy**.\n",
    "   2. After reconciliation, forecasts at higher levels of aggregation (e.g., yearly) are simply the sum of the relevant lowest-level forecast (e.g., monthly) which allows **operational, tactical, and strategic plans to be based off of the same forecast**.\n",
    "\n",
    "# `forecastML::reconcile_forecasts()`\n",
    "\n",
    "* The method implemented is temporal forecast reconciliation with structural scaling from:  \n",
    "  \n",
    "  Athanasopoulos, G., Hyndman, R. J., Kourentzes, N., & Petropoulos, F. (2017). [Forecasting with temporal hierarchies](https://robjhyndman.com/publications/temporal-hierarchies/). European Journal of Operational Research, 262(1), 60-74.\n",
    "\n",
    "\n",
    "* `reconcile_forecasts()` works with forecasts from **any package**.\n",
    "\n",
    "\n",
    "* `reconcile_forecasts()` works with forecasts at **any forecast horizon frequency** from seconds to years.\n",
    "\n",
    "***\n",
    "\n",
    "# Example: Reconciling weekly and monthly forecasts\n",
    "\n",
    "## Task\n",
    "\n",
    "* **Domain:** Ansett Airlines economy passenger counts over several years\n",
    "* **Number of time series:** 10\n",
    "* **Frequency of data collection:** 1 week\n",
    "* **Forecast horizon:** 4-months-ahead\n",
    "* **Method:** Temporal hierarchical forecast reconciliation (forecasts are *not* reconciled across groups)\n",
    "* **Model outcome:** passengers\n",
    "* **Models:**\n",
    "    + ARIMA at the monthly level from the `fable` package\n",
    "    + LASSO at the weekly level from `glmnet` with `forecastML`\n",
    "\n",
    "## Final Product\n",
    "  \n",
    "<p>\n",
    "  \n",
    "<div>\n",
    "<img src=\"forecast_comparison.png\"/>\n",
    "</div>"
   ]
  },
  {
   "cell_type": "markdown",
   "metadata": {},
   "source": [
    "***\n",
    "\n",
    "## `R` Setup"
   ]
  },
  {
   "cell_type": "code",
   "execution_count": 29,
   "metadata": {},
   "outputs": [],
   "source": [
    "options(warn = -1)\n",
    "options(repr.plot.width = 12, repr.plot.height = 6)\n",
    "\n",
    "library(dplyr)\n",
    "library(lubridate)\n",
    "library(ggplot2)\n",
    "library(tsibble)  # Time series data.frames.\n",
    "library(tsibbledata)\n",
    "library(fable)  # Statistical forecasting.\n",
    "library(forecastML)  # v0.9.1\n",
    "library(glmnet)  # LASSO model in R."
   ]
  },
  {
   "cell_type": "markdown",
   "metadata": {},
   "source": [
    "***\n",
    "\n",
    "## Data Preparation\n",
    "\n",
    "* Load the example data."
   ]
  },
  {
   "cell_type": "code",
   "execution_count": 2,
   "metadata": {},
   "outputs": [
    {
     "data": {
      "text/html": [
       "<table>\n",
       "<caption>A data.frame: 6 × 3</caption>\n",
       "<thead>\n",
       "\t<tr><th></th><th scope=col>week</th><th scope=col>airports</th><th scope=col>passengers</th></tr>\n",
       "\t<tr><th></th><th scope=col>&lt;week&gt;</th><th scope=col>&lt;chr&gt;</th><th scope=col>&lt;dbl&gt;</th></tr>\n",
       "</thead>\n",
       "<tbody>\n",
       "\t<tr><th scope=row>1</th><td>1987 W26</td><td>ADL-PER</td><td>2084</td></tr>\n",
       "\t<tr><th scope=row>2</th><td>1987 W27</td><td>ADL-PER</td><td>2186</td></tr>\n",
       "\t<tr><th scope=row>3</th><td>1987 W28</td><td>ADL-PER</td><td>2137</td></tr>\n",
       "\t<tr><th scope=row>4</th><td>1987 W29</td><td>ADL-PER</td><td>2090</td></tr>\n",
       "\t<tr><th scope=row>5</th><td>1987 W30</td><td>ADL-PER</td><td>1595</td></tr>\n",
       "\t<tr><th scope=row>6</th><td>1987 W31</td><td>ADL-PER</td><td>1908</td></tr>\n",
       "</tbody>\n",
       "</table>\n"
      ],
      "text/latex": [
       "A data.frame: 6 × 3\n",
       "\\begin{tabular}{r|lll}\n",
       "  & week & airports & passengers\\\\\n",
       "  & <week> & <chr> & <dbl>\\\\\n",
       "\\hline\n",
       "\t1 & 1987 W26 & ADL-PER & 2084\\\\\n",
       "\t2 & 1987 W27 & ADL-PER & 2186\\\\\n",
       "\t3 & 1987 W28 & ADL-PER & 2137\\\\\n",
       "\t4 & 1987 W29 & ADL-PER & 2090\\\\\n",
       "\t5 & 1987 W30 & ADL-PER & 1595\\\\\n",
       "\t6 & 1987 W31 & ADL-PER & 1908\\\\\n",
       "\\end{tabular}\n"
      ],
      "text/markdown": [
       "\n",
       "A data.frame: 6 × 3\n",
       "\n",
       "| <!--/--> | week &lt;week&gt; | airports &lt;chr&gt; | passengers &lt;dbl&gt; |\n",
       "|---|---|---|---|\n",
       "| 1 | 1987 W26 | ADL-PER | 2084 |\n",
       "| 2 | 1987 W27 | ADL-PER | 2186 |\n",
       "| 3 | 1987 W28 | ADL-PER | 2137 |\n",
       "| 4 | 1987 W29 | ADL-PER | 2090 |\n",
       "| 5 | 1987 W30 | ADL-PER | 1595 |\n",
       "| 6 | 1987 W31 | ADL-PER | 1908 |\n",
       "\n"
      ],
      "text/plain": [
       "  week     airports passengers\n",
       "1 1987 W26 ADL-PER  2084      \n",
       "2 1987 W27 ADL-PER  2186      \n",
       "3 1987 W28 ADL-PER  2137      \n",
       "4 1987 W29 ADL-PER  2090      \n",
       "5 1987 W30 ADL-PER  1595      \n",
       "6 1987 W31 ADL-PER  1908      "
      ]
     },
     "metadata": {},
     "output_type": "display_data"
    }
   ],
   "source": [
    "data(ansett, package = \"tsibbledata\")\n",
    "\n",
    "data <- as.data.frame(ansett)\n",
    "\n",
    "names(data) <- tolower(names(data))\n",
    "\n",
    "# This dataset has two levels of grouping--airport and class. We'll select one class for analysis.\n",
    "data <- data %>%\n",
    "  dplyr::filter(class == \"Economy\") %>%\n",
    "  dplyr::select(-class)\n",
    "\n",
    "head(data)"
   ]
  },
  {
   "cell_type": "code",
   "execution_count": 3,
   "metadata": {},
   "outputs": [
    {
     "data": {
      "text/html": [
       "<style>\n",
       ".list-inline {list-style: none; margin:0; padding: 0}\n",
       ".list-inline>li {display: inline-block}\n",
       ".list-inline>li:not(:last-child)::after {content: \"\\00b7\"; padding: 0 .5ex}\n",
       "</style>\n",
       "<ol class=list-inline><li>'ADL-PER'</li><li>'MEL-ADL'</li><li>'MEL-BNE'</li><li>'MEL-OOL'</li><li>'MEL-PER'</li><li>'MEL-SYD'</li><li>'SYD-ADL'</li><li>'SYD-BNE'</li><li>'SYD-OOL'</li><li>'SYD-PER'</li></ol>\n"
      ],
      "text/latex": [
       "\\begin{enumerate*}\n",
       "\\item 'ADL-PER'\n",
       "\\item 'MEL-ADL'\n",
       "\\item 'MEL-BNE'\n",
       "\\item 'MEL-OOL'\n",
       "\\item 'MEL-PER'\n",
       "\\item 'MEL-SYD'\n",
       "\\item 'SYD-ADL'\n",
       "\\item 'SYD-BNE'\n",
       "\\item 'SYD-OOL'\n",
       "\\item 'SYD-PER'\n",
       "\\end{enumerate*}\n"
      ],
      "text/markdown": [
       "1. 'ADL-PER'\n",
       "2. 'MEL-ADL'\n",
       "3. 'MEL-BNE'\n",
       "4. 'MEL-OOL'\n",
       "5. 'MEL-PER'\n",
       "6. 'MEL-SYD'\n",
       "7. 'SYD-ADL'\n",
       "8. 'SYD-BNE'\n",
       "9. 'SYD-OOL'\n",
       "10. 'SYD-PER'\n",
       "\n",
       "\n"
      ],
      "text/plain": [
       " [1] \"ADL-PER\" \"MEL-ADL\" \"MEL-BNE\" \"MEL-OOL\" \"MEL-PER\" \"MEL-SYD\" \"SYD-ADL\"\n",
       " [8] \"SYD-BNE\" \"SYD-OOL\" \"SYD-PER\""
      ]
     },
     "metadata": {},
     "output_type": "display_data"
    }
   ],
   "source": [
    "airport_list <- unique(data$airports)\n",
    "airport_list"
   ]
  },
  {
   "cell_type": "markdown",
   "metadata": {},
   "source": [
    "### Date features for aggregation\n",
    "\n",
    "* Let's create several date features that will allow us to aggregate the passenger totals at the weekly and monthly levels. We could use thse features with our LASSO model in `forecastML`, but we'll skip that this time."
   ]
  },
  {
   "cell_type": "code",
   "execution_count": 4,
   "metadata": {},
   "outputs": [
    {
     "data": {
      "text/html": [
       "<table>\n",
       "<caption>A data.frame: 6 × 6</caption>\n",
       "<thead>\n",
       "\t<tr><th></th><th scope=col>week</th><th scope=col>airports</th><th scope=col>passengers</th><th scope=col>month</th><th scope=col>quarter</th><th scope=col>year</th></tr>\n",
       "\t<tr><th></th><th scope=col>&lt;week&gt;</th><th scope=col>&lt;chr&gt;</th><th scope=col>&lt;dbl&gt;</th><th scope=col>&lt;dbl&gt;</th><th scope=col>&lt;int&gt;</th><th scope=col>&lt;dbl&gt;</th></tr>\n",
       "</thead>\n",
       "<tbody>\n",
       "\t<tr><th scope=row>1</th><td>1987 W26</td><td>ADL-PER</td><td>2084</td><td>6</td><td>2</td><td>1987</td></tr>\n",
       "\t<tr><th scope=row>2</th><td>1987 W27</td><td>ADL-PER</td><td>2186</td><td>6</td><td>2</td><td>1987</td></tr>\n",
       "\t<tr><th scope=row>3</th><td>1987 W28</td><td>ADL-PER</td><td>2137</td><td>7</td><td>3</td><td>1987</td></tr>\n",
       "\t<tr><th scope=row>4</th><td>1987 W29</td><td>ADL-PER</td><td>2090</td><td>7</td><td>3</td><td>1987</td></tr>\n",
       "\t<tr><th scope=row>5</th><td>1987 W30</td><td>ADL-PER</td><td>1595</td><td>7</td><td>3</td><td>1987</td></tr>\n",
       "\t<tr><th scope=row>6</th><td>1987 W31</td><td>ADL-PER</td><td>1908</td><td>7</td><td>3</td><td>1987</td></tr>\n",
       "</tbody>\n",
       "</table>\n"
      ],
      "text/latex": [
       "A data.frame: 6 × 6\n",
       "\\begin{tabular}{r|llllll}\n",
       "  & week & airports & passengers & month & quarter & year\\\\\n",
       "  & <week> & <chr> & <dbl> & <dbl> & <int> & <dbl>\\\\\n",
       "\\hline\n",
       "\t1 & 1987 W26 & ADL-PER & 2084 & 6 & 2 & 1987\\\\\n",
       "\t2 & 1987 W27 & ADL-PER & 2186 & 6 & 2 & 1987\\\\\n",
       "\t3 & 1987 W28 & ADL-PER & 2137 & 7 & 3 & 1987\\\\\n",
       "\t4 & 1987 W29 & ADL-PER & 2090 & 7 & 3 & 1987\\\\\n",
       "\t5 & 1987 W30 & ADL-PER & 1595 & 7 & 3 & 1987\\\\\n",
       "\t6 & 1987 W31 & ADL-PER & 1908 & 7 & 3 & 1987\\\\\n",
       "\\end{tabular}\n"
      ],
      "text/markdown": [
       "\n",
       "A data.frame: 6 × 6\n",
       "\n",
       "| <!--/--> | week &lt;week&gt; | airports &lt;chr&gt; | passengers &lt;dbl&gt; | month &lt;dbl&gt; | quarter &lt;int&gt; | year &lt;dbl&gt; |\n",
       "|---|---|---|---|---|---|---|\n",
       "| 1 | 1987 W26 | ADL-PER | 2084 | 6 | 2 | 1987 |\n",
       "| 2 | 1987 W27 | ADL-PER | 2186 | 6 | 2 | 1987 |\n",
       "| 3 | 1987 W28 | ADL-PER | 2137 | 7 | 3 | 1987 |\n",
       "| 4 | 1987 W29 | ADL-PER | 2090 | 7 | 3 | 1987 |\n",
       "| 5 | 1987 W30 | ADL-PER | 1595 | 7 | 3 | 1987 |\n",
       "| 6 | 1987 W31 | ADL-PER | 1908 | 7 | 3 | 1987 |\n",
       "\n"
      ],
      "text/plain": [
       "  week     airports passengers month quarter year\n",
       "1 1987 W26 ADL-PER  2084       6     2       1987\n",
       "2 1987 W27 ADL-PER  2186       6     2       1987\n",
       "3 1987 W28 ADL-PER  2137       7     3       1987\n",
       "4 1987 W29 ADL-PER  2090       7     3       1987\n",
       "5 1987 W30 ADL-PER  1595       7     3       1987\n",
       "6 1987 W31 ADL-PER  1908       7     3       1987"
      ]
     },
     "metadata": {},
     "output_type": "display_data"
    }
   ],
   "source": [
    "data$month <- lubridate::month(data$week)\n",
    "data$quarter <- lubridate::quarter(data$week)\n",
    "data$year <- lubridate::year(data$week)\n",
    "\n",
    "head(data)"
   ]
  },
  {
   "cell_type": "markdown",
   "metadata": {},
   "source": [
    "***\n",
    "\n",
    "## Monthly Forecasts with ARIMA\n",
    "\n",
    "* Check out the [tidyverts](https://tidyverts.org/) for more info on the tidy approach to forecasting in `R`. I'm a fan."
   ]
  },
  {
   "cell_type": "code",
   "execution_count": 5,
   "metadata": {},
   "outputs": [],
   "source": [
    "data_month <- data\n",
    "data_month$index <- as.Date(paste0(data_month$year, \"-\", data_month$month, \"-01\"))\n",
    "data_month$index <- tsibble::yearmonth(data_month$index)"
   ]
  },
  {
   "cell_type": "code",
   "execution_count": 6,
   "metadata": {},
   "outputs": [],
   "source": [
    "# Monthly aggregation.\n",
    "data_month <- data_month %>%\n",
    "  dplyr::group_by(airports, index) %>%\n",
    "  dplyr::summarize(\"passengers\" = sum(passengers, na.rm = TRUE)) %>%\n",
    "  dplyr::ungroup()"
   ]
  },
  {
   "cell_type": "code",
   "execution_count": 7,
   "metadata": {},
   "outputs": [
    {
     "data": {
      "text/html": [
       "<table>\n",
       "<caption>A tbl_ts: 6 × 3</caption>\n",
       "<thead>\n",
       "\t<tr><th scope=col>airports</th><th scope=col>index</th><th scope=col>passengers</th></tr>\n",
       "\t<tr><th scope=col>&lt;chr&gt;</th><th scope=col>&lt;mth&gt;</th><th scope=col>&lt;dbl&gt;</th></tr>\n",
       "</thead>\n",
       "<tbody>\n",
       "\t<tr><td>ADL-PER</td><td>1987 Jun</td><td> 4270</td></tr>\n",
       "\t<tr><td>ADL-PER</td><td>1987 Jul</td><td> 7730</td></tr>\n",
       "\t<tr><td>ADL-PER</td><td>1987 Aug</td><td> 9809</td></tr>\n",
       "\t<tr><td>ADL-PER</td><td>1987 Sep</td><td> 9300</td></tr>\n",
       "\t<tr><td>ADL-PER</td><td>1987 Oct</td><td> 9181</td></tr>\n",
       "\t<tr><td>ADL-PER</td><td>1987 Nov</td><td>11473</td></tr>\n",
       "</tbody>\n",
       "</table>\n"
      ],
      "text/latex": [
       "A tbl\\_ts: 6 × 3\n",
       "\\begin{tabular}{lll}\n",
       " airports & index & passengers\\\\\n",
       " <chr> & <mth> & <dbl>\\\\\n",
       "\\hline\n",
       "\t ADL-PER & 1987 Jun &  4270\\\\\n",
       "\t ADL-PER & 1987 Jul &  7730\\\\\n",
       "\t ADL-PER & 1987 Aug &  9809\\\\\n",
       "\t ADL-PER & 1987 Sep &  9300\\\\\n",
       "\t ADL-PER & 1987 Oct &  9181\\\\\n",
       "\t ADL-PER & 1987 Nov & 11473\\\\\n",
       "\\end{tabular}\n"
      ],
      "text/markdown": [
       "\n",
       "A tbl_ts: 6 × 3\n",
       "\n",
       "| airports &lt;chr&gt; | index &lt;mth&gt; | passengers &lt;dbl&gt; |\n",
       "|---|---|---|\n",
       "| ADL-PER | 1987 Jun |  4270 |\n",
       "| ADL-PER | 1987 Jul |  7730 |\n",
       "| ADL-PER | 1987 Aug |  9809 |\n",
       "| ADL-PER | 1987 Sep |  9300 |\n",
       "| ADL-PER | 1987 Oct |  9181 |\n",
       "| ADL-PER | 1987 Nov | 11473 |\n",
       "\n"
      ],
      "text/plain": [
       "  airports index    passengers\n",
       "1 ADL-PER  1987 Jun  4270     \n",
       "2 ADL-PER  1987 Jul  7730     \n",
       "3 ADL-PER  1987 Aug  9809     \n",
       "4 ADL-PER  1987 Sep  9300     \n",
       "5 ADL-PER  1987 Oct  9181     \n",
       "6 ADL-PER  1987 Nov 11473     "
      ]
     },
     "metadata": {},
     "output_type": "display_data"
    }
   ],
   "source": [
    "data_month <- tsibble::as_tsibble(data_month, key = airports, index = index)\n",
    "\n",
    "data_month <- tsibble::fill_gaps(data_month)\n",
    "\n",
    "head(data_month)"
   ]
  },
  {
   "cell_type": "markdown",
   "metadata": {},
   "source": [
    "* Fit a separate ARIMA model to each of the 10 airports with one line of code."
   ]
  },
  {
   "cell_type": "code",
   "execution_count": 8,
   "metadata": {},
   "outputs": [],
   "source": [
    "model_month <- data_month %>% fabletools::model(arima = fable::ARIMA(passengers))"
   ]
  },
  {
   "cell_type": "markdown",
   "metadata": {},
   "source": [
    "* Forecast 4 months into the future."
   ]
  },
  {
   "cell_type": "code",
   "execution_count": 9,
   "metadata": {},
   "outputs": [],
   "source": [
    "data_forecasts_month <- forecast(model_month, h = \"4 months\")"
   ]
  },
  {
   "cell_type": "markdown",
   "metadata": {},
   "source": [
    "* Plot forecasts for 3 of the 10 airports.\n",
    "\n",
    "\n",
    "* These forecasts look fairly flat. Hopefully, we can boost the signal in the monthly time series by reconciling these forecasts with the weekly forecasts."
   ]
  },
  {
   "cell_type": "code",
   "execution_count": 10,
   "metadata": {},
   "outputs": [
    {
     "data": {
      "image/png": "[encoded data removed]",
      "text/plain": [
       "plot without title"
      ]
     },
     "metadata": {
      "image/png": {
       "height": 360,
       "width": 720
      },
      "text/plain": {
       "height": 360,
       "width": 720
      }
     },
     "output_type": "display_data"
    }
   ],
   "source": [
    "data_forecasts_month %>%\n",
    "  dplyr::filter(airports %in% airport_list[1:3]) %>%\n",
    "  autoplot(dplyr::filter(data_month, airports %in% airport_list[1:3]))"
   ]
  },
  {
   "cell_type": "markdown",
   "metadata": {},
   "source": [
    "***\n",
    "\n",
    "## Weekly Forecasts with the LASSO in `forecastML`\n",
    "\n",
    "* I'll skip most of the step-by-step explanation about how to use `forecastML`. Refer to the package vignettes, cheat sheets, or other notebooks if additional context is needed.\n",
    "\n",
    "\n",
    "* Our highest level forecast model is producing monthly forecasts at a horizon of ~16 weeks, sometimes more depending on whether or not a month has 5 weeks. To be safe, we'll build a model that can forecast 20 weeks into the future and simply discard the excess forecasts during reconciliation.  `reconcile_forecasts()` takes care of all the date alignments."
   ]
  },
  {
   "cell_type": "code",
   "execution_count": 11,
   "metadata": {},
   "outputs": [
    {
     "data": {
      "text/html": [
       "<table>\n",
       "<caption>A data.frame: 6 × 3</caption>\n",
       "<thead>\n",
       "\t<tr><th></th><th scope=col>week</th><th scope=col>airports</th><th scope=col>passengers</th></tr>\n",
       "\t<tr><th></th><th scope=col>&lt;date&gt;</th><th scope=col>&lt;fct&gt;</th><th scope=col>&lt;dbl&gt;</th></tr>\n",
       "</thead>\n",
       "<tbody>\n",
       "\t<tr><th scope=row>1</th><td>1987-06-22</td><td>ADL-PER</td><td>2084</td></tr>\n",
       "\t<tr><th scope=row>2</th><td>1987-06-29</td><td>ADL-PER</td><td>2186</td></tr>\n",
       "\t<tr><th scope=row>3</th><td>1987-07-06</td><td>ADL-PER</td><td>2137</td></tr>\n",
       "\t<tr><th scope=row>4</th><td>1987-07-13</td><td>ADL-PER</td><td>2090</td></tr>\n",
       "\t<tr><th scope=row>5</th><td>1987-07-20</td><td>ADL-PER</td><td>1595</td></tr>\n",
       "\t<tr><th scope=row>6</th><td>1987-07-27</td><td>ADL-PER</td><td>1908</td></tr>\n",
       "</tbody>\n",
       "</table>\n"
      ],
      "text/latex": [
       "A data.frame: 6 × 3\n",
       "\\begin{tabular}{r|lll}\n",
       "  & week & airports & passengers\\\\\n",
       "  & <date> & <fct> & <dbl>\\\\\n",
       "\\hline\n",
       "\t1 & 1987-06-22 & ADL-PER & 2084\\\\\n",
       "\t2 & 1987-06-29 & ADL-PER & 2186\\\\\n",
       "\t3 & 1987-07-06 & ADL-PER & 2137\\\\\n",
       "\t4 & 1987-07-13 & ADL-PER & 2090\\\\\n",
       "\t5 & 1987-07-20 & ADL-PER & 1595\\\\\n",
       "\t6 & 1987-07-27 & ADL-PER & 1908\\\\\n",
       "\\end{tabular}\n"
      ],
      "text/markdown": [
       "\n",
       "A data.frame: 6 × 3\n",
       "\n",
       "| <!--/--> | week &lt;date&gt; | airports &lt;fct&gt; | passengers &lt;dbl&gt; |\n",
       "|---|---|---|---|\n",
       "| 1 | 1987-06-22 | ADL-PER | 2084 |\n",
       "| 2 | 1987-06-29 | ADL-PER | 2186 |\n",
       "| 3 | 1987-07-06 | ADL-PER | 2137 |\n",
       "| 4 | 1987-07-13 | ADL-PER | 2090 |\n",
       "| 5 | 1987-07-20 | ADL-PER | 1595 |\n",
       "| 6 | 1987-07-27 | ADL-PER | 1908 |\n",
       "\n"
      ],
      "text/plain": [
       "  week       airports passengers\n",
       "1 1987-06-22 ADL-PER  2084      \n",
       "2 1987-06-29 ADL-PER  2186      \n",
       "3 1987-07-06 ADL-PER  2137      \n",
       "4 1987-07-13 ADL-PER  2090      \n",
       "5 1987-07-20 ADL-PER  1595      \n",
       "6 1987-07-27 ADL-PER  1908      "
      ]
     },
     "metadata": {},
     "output_type": "display_data"
    }
   ],
   "source": [
    "data_week <- data\n",
    "\n",
    "data_week[, c(\"month\", \"quarter\", \"year\")] <- NULL  # We could use these as dynamic features.\n",
    "\n",
    "data_week$week <- as.Date(data_week$week)\n",
    "\n",
    "data_week$airports <- as.factor(data_week$airports)  # For modeling.\n",
    "\n",
    "data_week <- forecastML::fill_gaps(data_week, date_col = 1, frequency = \"1 week\", groups = \"airports\")\n",
    "\n",
    "head(data_week)"
   ]
  },
  {
   "cell_type": "markdown",
   "metadata": {},
   "source": [
    "### `forecastML::create_lagged_df(type = \"train\")`"
   ]
  },
  {
   "cell_type": "code",
   "execution_count": 12,
   "metadata": {},
   "outputs": [
    {
     "data": {
      "text/html": [
       "<table>\n",
       "<caption>A data.frame: 6 × 52</caption>\n",
       "<thead>\n",
       "\t<tr><th></th><th scope=col>passengers</th><th scope=col>airports</th><th scope=col>passengers_lag_4</th><th scope=col>passengers_lag_5</th><th scope=col>passengers_lag_6</th><th scope=col>passengers_lag_7</th><th scope=col>passengers_lag_8</th><th scope=col>passengers_lag_9</th><th scope=col>passengers_lag_10</th><th scope=col>passengers_lag_11</th><th scope=col>...</th><th scope=col>passengers_lag_44</th><th scope=col>passengers_lag_45</th><th scope=col>passengers_lag_46</th><th scope=col>passengers_lag_47</th><th scope=col>passengers_lag_48</th><th scope=col>passengers_lag_49</th><th scope=col>passengers_lag_50</th><th scope=col>passengers_lag_51</th><th scope=col>passengers_lag_52</th><th scope=col>passengers_lag_53</th></tr>\n",
       "\t<tr><th></th><th scope=col>&lt;dbl&gt;</th><th scope=col>&lt;fct&gt;</th><th scope=col>&lt;dbl&gt;</th><th scope=col>&lt;dbl&gt;</th><th scope=col>&lt;dbl&gt;</th><th scope=col>&lt;dbl&gt;</th><th scope=col>&lt;dbl&gt;</th><th scope=col>&lt;dbl&gt;</th><th scope=col>&lt;dbl&gt;</th><th scope=col>&lt;dbl&gt;</th><th scope=col>...</th><th scope=col>&lt;dbl&gt;</th><th scope=col>&lt;dbl&gt;</th><th scope=col>&lt;dbl&gt;</th><th scope=col>&lt;dbl&gt;</th><th scope=col>&lt;dbl&gt;</th><th scope=col>&lt;dbl&gt;</th><th scope=col>&lt;dbl&gt;</th><th scope=col>&lt;dbl&gt;</th><th scope=col>&lt;dbl&gt;</th><th scope=col>&lt;dbl&gt;</th></tr>\n",
       "</thead>\n",
       "<tbody>\n",
       "\t<tr><th scope=row>1</th><td>2084</td><td>ADL-PER</td><td>  NA</td><td>  NA</td><td>NA</td><td>NA</td><td>NA</td><td>NA</td><td>NA</td><td>NA</td><td>...</td><td>NA</td><td>NA</td><td>NA</td><td>NA</td><td>NA</td><td>NA</td><td>NA</td><td>NA</td><td>NA</td><td>NA</td></tr>\n",
       "\t<tr><th scope=row>2</th><td>2186</td><td>ADL-PER</td><td>  NA</td><td>  NA</td><td>NA</td><td>NA</td><td>NA</td><td>NA</td><td>NA</td><td>NA</td><td>...</td><td>NA</td><td>NA</td><td>NA</td><td>NA</td><td>NA</td><td>NA</td><td>NA</td><td>NA</td><td>NA</td><td>NA</td></tr>\n",
       "\t<tr><th scope=row>3</th><td>2137</td><td>ADL-PER</td><td>  NA</td><td>  NA</td><td>NA</td><td>NA</td><td>NA</td><td>NA</td><td>NA</td><td>NA</td><td>...</td><td>NA</td><td>NA</td><td>NA</td><td>NA</td><td>NA</td><td>NA</td><td>NA</td><td>NA</td><td>NA</td><td>NA</td></tr>\n",
       "\t<tr><th scope=row>4</th><td>2090</td><td>ADL-PER</td><td>  NA</td><td>  NA</td><td>NA</td><td>NA</td><td>NA</td><td>NA</td><td>NA</td><td>NA</td><td>...</td><td>NA</td><td>NA</td><td>NA</td><td>NA</td><td>NA</td><td>NA</td><td>NA</td><td>NA</td><td>NA</td><td>NA</td></tr>\n",
       "\t<tr><th scope=row>5</th><td>1595</td><td>ADL-PER</td><td>2084</td><td>  NA</td><td>NA</td><td>NA</td><td>NA</td><td>NA</td><td>NA</td><td>NA</td><td>...</td><td>NA</td><td>NA</td><td>NA</td><td>NA</td><td>NA</td><td>NA</td><td>NA</td><td>NA</td><td>NA</td><td>NA</td></tr>\n",
       "\t<tr><th scope=row>6</th><td>1908</td><td>ADL-PER</td><td>2186</td><td>2084</td><td>NA</td><td>NA</td><td>NA</td><td>NA</td><td>NA</td><td>NA</td><td>...</td><td>NA</td><td>NA</td><td>NA</td><td>NA</td><td>NA</td><td>NA</td><td>NA</td><td>NA</td><td>NA</td><td>NA</td></tr>\n",
       "</tbody>\n",
       "</table>\n"
      ],
      "text/latex": [
       "A data.frame: 6 × 52\n",
       "\\begin{tabular}{r|lllllllllllllllllllll}\n",
       "  & passengers & airports & passengers\\_lag\\_4 & passengers\\_lag\\_5 & passengers\\_lag\\_6 & passengers\\_lag\\_7 & passengers\\_lag\\_8 & passengers\\_lag\\_9 & passengers\\_lag\\_10 & passengers\\_lag\\_11 & ... & passengers\\_lag\\_44 & passengers\\_lag\\_45 & passengers\\_lag\\_46 & passengers\\_lag\\_47 & passengers\\_lag\\_48 & passengers\\_lag\\_49 & passengers\\_lag\\_50 & passengers\\_lag\\_51 & passengers\\_lag\\_52 & passengers\\_lag\\_53\\\\\n",
       "  & <dbl> & <fct> & <dbl> & <dbl> & <dbl> & <dbl> & <dbl> & <dbl> & <dbl> & <dbl> & ... & <dbl> & <dbl> & <dbl> & <dbl> & <dbl> & <dbl> & <dbl> & <dbl> & <dbl> & <dbl>\\\\\n",
       "\\hline\n",
       "\t1 & 2084 & ADL-PER &   NA &   NA & NA & NA & NA & NA & NA & NA & ... & NA & NA & NA & NA & NA & NA & NA & NA & NA & NA\\\\\n",
       "\t2 & 2186 & ADL-PER &   NA &   NA & NA & NA & NA & NA & NA & NA & ... & NA & NA & NA & NA & NA & NA & NA & NA & NA & NA\\\\\n",
       "\t3 & 2137 & ADL-PER &   NA &   NA & NA & NA & NA & NA & NA & NA & ... & NA & NA & NA & NA & NA & NA & NA & NA & NA & NA\\\\\n",
       "\t4 & 2090 & ADL-PER &   NA &   NA & NA & NA & NA & NA & NA & NA & ... & NA & NA & NA & NA & NA & NA & NA & NA & NA & NA\\\\\n",
       "\t5 & 1595 & ADL-PER & 2084 &   NA & NA & NA & NA & NA & NA & NA & ... & NA & NA & NA & NA & NA & NA & NA & NA & NA & NA\\\\\n",
       "\t6 & 1908 & ADL-PER & 2186 & 2084 & NA & NA & NA & NA & NA & NA & ... & NA & NA & NA & NA & NA & NA & NA & NA & NA & NA\\\\\n",
       "\\end{tabular}\n"
      ],
      "text/markdown": [
       "\n",
       "A data.frame: 6 × 52\n",
       "\n",
       "| <!--/--> | passengers &lt;dbl&gt; | airports &lt;fct&gt; | passengers_lag_4 &lt;dbl&gt; | passengers_lag_5 &lt;dbl&gt; | passengers_lag_6 &lt;dbl&gt; | passengers_lag_7 &lt;dbl&gt; | passengers_lag_8 &lt;dbl&gt; | passengers_lag_9 &lt;dbl&gt; | passengers_lag_10 &lt;dbl&gt; | passengers_lag_11 &lt;dbl&gt; | ... ... | passengers_lag_44 &lt;dbl&gt; | passengers_lag_45 &lt;dbl&gt; | passengers_lag_46 &lt;dbl&gt; | passengers_lag_47 &lt;dbl&gt; | passengers_lag_48 &lt;dbl&gt; | passengers_lag_49 &lt;dbl&gt; | passengers_lag_50 &lt;dbl&gt; | passengers_lag_51 &lt;dbl&gt; | passengers_lag_52 &lt;dbl&gt; | passengers_lag_53 &lt;dbl&gt; |\n",
       "|---|---|---|---|---|---|---|---|---|---|---|---|---|---|---|---|---|---|---|---|---|---|\n",
       "| 1 | 2084 | ADL-PER |   NA |   NA | NA | NA | NA | NA | NA | NA | ... | NA | NA | NA | NA | NA | NA | NA | NA | NA | NA |\n",
       "| 2 | 2186 | ADL-PER |   NA |   NA | NA | NA | NA | NA | NA | NA | ... | NA | NA | NA | NA | NA | NA | NA | NA | NA | NA |\n",
       "| 3 | 2137 | ADL-PER |   NA |   NA | NA | NA | NA | NA | NA | NA | ... | NA | NA | NA | NA | NA | NA | NA | NA | NA | NA |\n",
       "| 4 | 2090 | ADL-PER |   NA |   NA | NA | NA | NA | NA | NA | NA | ... | NA | NA | NA | NA | NA | NA | NA | NA | NA | NA |\n",
       "| 5 | 1595 | ADL-PER | 2084 |   NA | NA | NA | NA | NA | NA | NA | ... | NA | NA | NA | NA | NA | NA | NA | NA | NA | NA |\n",
       "| 6 | 1908 | ADL-PER | 2186 | 2084 | NA | NA | NA | NA | NA | NA | ... | NA | NA | NA | NA | NA | NA | NA | NA | NA | NA |\n",
       "\n"
      ],
      "text/plain": [
       "  passengers airports passengers_lag_4 passengers_lag_5 passengers_lag_6\n",
       "1 2084       ADL-PER    NA               NA             NA              \n",
       "2 2186       ADL-PER    NA               NA             NA              \n",
       "3 2137       ADL-PER    NA               NA             NA              \n",
       "4 2090       ADL-PER    NA               NA             NA              \n",
       "5 1595       ADL-PER  2084               NA             NA              \n",
       "6 1908       ADL-PER  2186             2084             NA              \n",
       "  passengers_lag_7 passengers_lag_8 passengers_lag_9 passengers_lag_10\n",
       "1 NA               NA               NA               NA               \n",
       "2 NA               NA               NA               NA               \n",
       "3 NA               NA               NA               NA               \n",
       "4 NA               NA               NA               NA               \n",
       "5 NA               NA               NA               NA               \n",
       "6 NA               NA               NA               NA               \n",
       "  passengers_lag_11 ... passengers_lag_44 passengers_lag_45 passengers_lag_46\n",
       "1 NA                ... NA                NA                NA               \n",
       "2 NA                ... NA                NA                NA               \n",
       "3 NA                ... NA                NA                NA               \n",
       "4 NA                ... NA                NA                NA               \n",
       "5 NA                ... NA                NA                NA               \n",
       "6 NA                ... NA                NA                NA               \n",
       "  passengers_lag_47 passengers_lag_48 passengers_lag_49 passengers_lag_50\n",
       "1 NA                NA                NA                NA               \n",
       "2 NA                NA                NA                NA               \n",
       "3 NA                NA                NA                NA               \n",
       "4 NA                NA                NA                NA               \n",
       "5 NA                NA                NA                NA               \n",
       "6 NA                NA                NA                NA               \n",
       "  passengers_lag_51 passengers_lag_52 passengers_lag_53\n",
       "1 NA                NA                NA               \n",
       "2 NA                NA                NA               \n",
       "3 NA                NA                NA               \n",
       "4 NA                NA                NA               \n",
       "5 NA                NA                NA               \n",
       "6 NA                NA                NA               "
      ]
     },
     "metadata": {},
     "output_type": "display_data"
    }
   ],
   "source": [
    "# The column position of our 'passengers' outcome (after removing the date column).\n",
    "# The outcome will be moved to the first position in the resulting lagged data.frames.\n",
    "outcome_col <- 2\n",
    "\n",
    "# Forecast 1, 1:4, ... 1:20 weeks into the future in 1-week increments.\n",
    "horizons <- c(1, 4, 8, 12, 16, 20)\n",
    "\n",
    "# Feature lags in 1 week intervals. Notice that feature lags that do not support direct forecasting at \n",
    "# a given horizon are silently dropped.\n",
    "lookback <- 1:53\n",
    "\n",
    "groups <- \"airports\"\n",
    "\n",
    "dates <- data_week$week\n",
    "\n",
    "# We don't need or want dates/times in the modeling dataset.\n",
    "data_week$week <- NULL\n",
    "\n",
    "frequency <- \"1 week\"\n",
    "\n",
    "data_train <- forecastML::create_lagged_df(data_week, type = \"train\", outcome_col = outcome_col,\n",
    "                                           lookback = lookback, horizon = horizons,\n",
    "                                           dates = dates, frequency = frequency,\n",
    "                                           groups = groups\n",
    "                                           )\n",
    "\n",
    "head(data_train$horizon_4)  # View the horizon-4 dataset."
   ]
  },
  {
   "cell_type": "markdown",
   "metadata": {},
   "source": [
    "### `forecastML::create_windows(window_length = 0)`\n",
    "\n",
    "* Train over all historical data without creating any external validation windows.\n",
    "\n",
    "\n",
    "* That dip in 1989 is not an aggregation error. There was a pilots' strike."
   ]
  },
  {
   "cell_type": "code",
   "execution_count": 13,
   "metadata": {},
   "outputs": [
    {
     "data": {
      "image/png": "[encoded data removed]",
      "text/plain": [
       "plot without title"
      ]
     },
     "metadata": {
      "image/png": {
       "height": 360,
       "width": 720
      },
      "text/plain": {
       "height": 360,
       "width": 720
      }
     },
     "output_type": "display_data"
    }
   ],
   "source": [
    "windows <- forecastML::create_windows(data_train, window_length = 0)\n",
    "\n",
    "plot(windows, data_train)"
   ]
  },
  {
   "cell_type": "markdown",
   "metadata": {},
   "source": [
    "### `forecastML::train_model()`"
   ]
  },
  {
   "cell_type": "code",
   "execution_count": 14,
   "metadata": {},
   "outputs": [],
   "source": [
    "model_fun <- function(data, outcome) {  # 'outcome' is not a required argument.\n",
    "\n",
    "  data <- data[complete.cases(data), ]  # With grouped data and feature lags, there will be NAs.\n",
    "\n",
    "  x <- model.matrix(as.formula(paste0(outcome, \"~ .\")), data)\n",
    "\n",
    "  y <- as.matrix(data[, outcome, drop = FALSE])\n",
    "\n",
    "  set.seed(224)\n",
    "  model <- glmnet::cv.glmnet(x, y)\n",
    "}\n",
    "\n",
    "model_week <- forecastML::train_model(data_train,\n",
    "                                         windows,\n",
    "                                         model_name = \"LASSO\",  # Can be any name.\n",
    "                                         model_function = model_fun,\n",
    "                                         outcome = \"passengers\"  # Passed in ...\n",
    "                                         )"
   ]
  },
  {
   "cell_type": "markdown",
   "metadata": {},
   "source": [
    "### `forecastML::predict()`"
   ]
  },
  {
   "cell_type": "code",
   "execution_count": 15,
   "metadata": {},
   "outputs": [],
   "source": [
    "predict_function <- function(model, data) {\n",
    "\n",
    "  x <- model.matrix(~ ., data)\n",
    "\n",
    "  data_pred <- data.frame(\"y_pred\" = predict(model, x))\n",
    "}\n",
    "\n",
    "data_forecast <- forecastML::create_lagged_df(data_week, type = \"forecast\", outcome_col = outcome_col,\n",
    "                                              lookback = lookback, horizon = horizons,\n",
    "                                              dates = dates, frequency = frequency,\n",
    "                                              groups = groups\n",
    "                                              )\n",
    "\n",
    "data_forecasts <- predict(model_week, prediction_function = list(predict_function), data = data_forecast)\n",
    "\n",
    "# Combine the short- and long-horizon direct forecasts.\n",
    "data_forecasts_week <- forecastML::combine_forecasts(data_forecasts)"
   ]
  },
  {
   "cell_type": "markdown",
   "metadata": {},
   "source": [
    "### `forecastML::plot()`"
   ]
  },
  {
   "cell_type": "code",
   "execution_count": 16,
   "metadata": {},
   "outputs": [
    {
     "data": {
      "image/png": "[encoded data removed]",
      "text/plain": [
       "plot without title"
      ]
     },
     "metadata": {
      "image/png": {
       "height": 360,
       "width": 720
      },
      "text/plain": {
       "height": 360,
       "width": 720
      }
     },
     "output_type": "display_data"
    }
   ],
   "source": [
    "plot(data_forecasts_week)"
   ]
  },
  {
   "cell_type": "markdown",
   "metadata": {},
   "source": [
    "***\n",
    "\n",
    "## Forecast Reconciliation\n",
    "\n",
    "`reconcile_forecasts()` has very few restrictions on the input forecasts. Here they are:\n",
    "\n",
    "* The forecasts being reconciled must have a **column of dates or datetimes** (dates and times can be combined).\n",
    "\n",
    "\n",
    "* The date column, `index`, and column of forecasts, `outcome`, need to **have the same name across forecasts**.\n",
    "\n",
    "\n",
    "* The lowest frequency forecast--i.e., the forecast at the highest level of aggregation--provides the bookend date ranges for forecast reconciliation. **All lower-level forecasts--weekly in our example--need to be present within this date range**. Lower-level forecasts can be made for dates before or after this date range but they will not factor into the reconciliation. They can optionally be returned un-reconciled with `keep_non_reconciled = TRUE`. This functionality was added with ease of use in mind."
   ]
  },
  {
   "cell_type": "markdown",
   "metadata": {},
   "source": [
    "### Renaming date and forecast columns to be the same across the weekly and monthly datasets"
   ]
  },
  {
   "cell_type": "code",
   "execution_count": 17,
   "metadata": {},
   "outputs": [],
   "source": [
    "data_forecasts_month$index <- as.Date(data_forecasts_month$index)\n",
    "\n",
    "names(data_forecasts_week)[names(data_forecasts_week) == \"forecast_period\"] <- \"index\"\n",
    "\n",
    "names(data_forecasts_week)[names(data_forecasts_week) == \"passengers_pred\"] <- \"passengers\""
   ]
  },
  {
   "cell_type": "markdown",
   "metadata": {},
   "source": [
    "### Creating a list of forecasts to reconcile\n",
    "\n",
    "* `reconcile_forecasts()` does not currently work with grouped hierarchical forecasts. So we'll split the forecasts into a list of 10 data.frames--1 for each airport--and reconcile forecasts 1 group at a time.\n",
    "\n",
    "\n",
    "* If you're reconciling multiple time series using an approach similar to below, make sure that the groups are in the same order prior to `dplyr::group_split()`! They're in the same order in this example."
   ]
  },
  {
   "cell_type": "code",
   "execution_count": 18,
   "metadata": {},
   "outputs": [],
   "source": [
    "data_reconcile_month <- data_forecasts_month %>%\n",
    "  dplyr::group_by(airports) %>%\n",
    "  dplyr::group_split(airports)\n",
    "\n",
    "data_reconcile_week <- data_forecasts_week %>%\n",
    "  dplyr::group_by(airports) %>%\n",
    "  dplyr::group_split(airports)"
   ]
  },
  {
   "cell_type": "markdown",
   "metadata": {},
   "source": [
    "* Here is the list of forecasts being reconciled for ADL-PER. The extra columns don't matter; both have the common columns \"index\" and \"passengers\"."
   ]
  },
  {
   "cell_type": "code",
   "execution_count": 19,
   "metadata": {},
   "outputs": [
    {
     "data": {
      "text/html": [
       "<table>\n",
       "<caption>A tbl_ts: 4 × 5</caption>\n",
       "<thead>\n",
       "\t<tr><th scope=col>airports</th><th scope=col>.model</th><th scope=col>index</th><th scope=col>passengers</th><th scope=col>.distribution</th></tr>\n",
       "\t<tr><th scope=col>&lt;chr&gt;</th><th scope=col>&lt;chr&gt;</th><th scope=col>&lt;date&gt;</th><th scope=col>&lt;dbl&gt;</th><th scope=col>&lt;dist&gt;</th></tr>\n",
       "</thead>\n",
       "<tbody>\n",
       "\t<tr><td>ADL-PER</td><td>arima</td><td>1992-12-01</td><td>8601.110</td><td>N(8601, 5407865)</td></tr>\n",
       "\t<tr><td>ADL-PER</td><td>arima</td><td>1993-01-01</td><td>8623.424</td><td>N(8623, 7363186)</td></tr>\n",
       "\t<tr><td>ADL-PER</td><td>arima</td><td>1993-02-01</td><td>8636.841</td><td>N(8637, 8070171)</td></tr>\n",
       "\t<tr><td>ADL-PER</td><td>arima</td><td>1993-03-01</td><td>8644.910</td><td>N(8645, 8325795)</td></tr>\n",
       "</tbody>\n",
       "</table>\n"
      ],
      "text/latex": [
       "A tbl\\_ts: 4 × 5\n",
       "\\begin{tabular}{lllll}\n",
       " airports & .model & index & passengers & .distribution\\\\\n",
       " <chr> & <chr> & <date> & <dbl> & <dist>\\\\\n",
       "\\hline\n",
       "\t ADL-PER & arima & 1992-12-01 & 8601.110 & N(8601, 5407865)\\\\\n",
       "\t ADL-PER & arima & 1993-01-01 & 8623.424 & N(8623, 7363186)\\\\\n",
       "\t ADL-PER & arima & 1993-02-01 & 8636.841 & N(8637, 8070171)\\\\\n",
       "\t ADL-PER & arima & 1993-03-01 & 8644.910 & N(8645, 8325795)\\\\\n",
       "\\end{tabular}\n"
      ],
      "text/markdown": [
       "\n",
       "A tbl_ts: 4 × 5\n",
       "\n",
       "| airports &lt;chr&gt; | .model &lt;chr&gt; | index &lt;date&gt; | passengers &lt;dbl&gt; | .distribution &lt;dist&gt; |\n",
       "|---|---|---|---|---|\n",
       "| ADL-PER | arima | 1992-12-01 | 8601.110 | N(8601, 5407865) |\n",
       "| ADL-PER | arima | 1993-01-01 | 8623.424 | N(8623, 7363186) |\n",
       "| ADL-PER | arima | 1993-02-01 | 8636.841 | N(8637, 8070171) |\n",
       "| ADL-PER | arima | 1993-03-01 | 8644.910 | N(8645, 8325795) |\n",
       "\n"
      ],
      "text/plain": [
       "  airports .model index      passengers .distribution   \n",
       "1 ADL-PER  arima  1992-12-01 8601.110   N(8601, 5407865)\n",
       "2 ADL-PER  arima  1993-01-01 8623.424   N(8623, 7363186)\n",
       "3 ADL-PER  arima  1993-02-01 8636.841   N(8637, 8070171)\n",
       "4 ADL-PER  arima  1993-03-01 8644.910   N(8645, 8325795)"
      ]
     },
     "metadata": {},
     "output_type": "display_data"
    },
    {
     "data": {
      "text/html": [
       "<table>\n",
       "<caption>A tibble: 20 × 6</caption>\n",
       "<thead>\n",
       "\t<tr><th scope=col>model</th><th scope=col>model_forecast_horizon</th><th scope=col>horizon</th><th scope=col>airports</th><th scope=col>index</th><th scope=col>passengers</th></tr>\n",
       "\t<tr><th scope=col>&lt;chr&gt;</th><th scope=col>&lt;dbl&gt;</th><th scope=col>&lt;dbl&gt;</th><th scope=col>&lt;fct&gt;</th><th scope=col>&lt;date&gt;</th><th scope=col>&lt;dbl&gt;</th></tr>\n",
       "</thead>\n",
       "<tbody>\n",
       "\t<tr><td>LASSO</td><td> 1</td><td> 1</td><td>ADL-PER</td><td>1992-11-23</td><td>2942.520</td></tr>\n",
       "\t<tr><td>LASSO</td><td> 4</td><td> 2</td><td>ADL-PER</td><td>1992-11-30</td><td>3320.056</td></tr>\n",
       "\t<tr><td>LASSO</td><td> 4</td><td> 3</td><td>ADL-PER</td><td>1992-12-07</td><td>3115.462</td></tr>\n",
       "\t<tr><td>LASSO</td><td> 4</td><td> 4</td><td>ADL-PER</td><td>1992-12-14</td><td>3123.974</td></tr>\n",
       "\t<tr><td>LASSO</td><td> 8</td><td> 5</td><td>ADL-PER</td><td>1992-12-21</td><td>3053.807</td></tr>\n",
       "\t<tr><td>LASSO</td><td> 8</td><td> 6</td><td>ADL-PER</td><td>1992-12-28</td><td>3263.941</td></tr>\n",
       "\t<tr><td>LASSO</td><td> 8</td><td> 7</td><td>ADL-PER</td><td>1993-01-04</td><td>3137.612</td></tr>\n",
       "\t<tr><td>LASSO</td><td> 8</td><td> 8</td><td>ADL-PER</td><td>1993-01-11</td><td>3106.625</td></tr>\n",
       "\t<tr><td>LASSO</td><td>12</td><td> 9</td><td>ADL-PER</td><td>1993-01-18</td><td>2998.464</td></tr>\n",
       "\t<tr><td>LASSO</td><td>12</td><td>10</td><td>ADL-PER</td><td>1993-01-25</td><td>3134.010</td></tr>\n",
       "\t<tr><td>LASSO</td><td>12</td><td>11</td><td>ADL-PER</td><td>1993-02-01</td><td>3004.158</td></tr>\n",
       "\t<tr><td>LASSO</td><td>12</td><td>12</td><td>ADL-PER</td><td>1993-02-08</td><td>2978.444</td></tr>\n",
       "\t<tr><td>LASSO</td><td>16</td><td>13</td><td>ADL-PER</td><td>1993-02-15</td><td>2908.999</td></tr>\n",
       "\t<tr><td>LASSO</td><td>16</td><td>14</td><td>ADL-PER</td><td>1993-02-22</td><td>3073.993</td></tr>\n",
       "\t<tr><td>LASSO</td><td>16</td><td>15</td><td>ADL-PER</td><td>1993-03-01</td><td>3096.509</td></tr>\n",
       "\t<tr><td>LASSO</td><td>16</td><td>16</td><td>ADL-PER</td><td>1993-03-08</td><td>3063.370</td></tr>\n",
       "\t<tr><td>LASSO</td><td>20</td><td>17</td><td>ADL-PER</td><td>1993-03-15</td><td>2981.404</td></tr>\n",
       "\t<tr><td>LASSO</td><td>20</td><td>18</td><td>ADL-PER</td><td>1993-03-22</td><td>3134.639</td></tr>\n",
       "\t<tr><td>LASSO</td><td>20</td><td>19</td><td>ADL-PER</td><td>1993-03-29</td><td>3078.839</td></tr>\n",
       "\t<tr><td>LASSO</td><td>20</td><td>20</td><td>ADL-PER</td><td>1993-04-05</td><td>3157.005</td></tr>\n",
       "</tbody>\n",
       "</table>\n"
      ],
      "text/latex": [
       "A tibble: 20 × 6\n",
       "\\begin{tabular}{llllll}\n",
       " model & model\\_forecast\\_horizon & horizon & airports & index & passengers\\\\\n",
       " <chr> & <dbl> & <dbl> & <fct> & <date> & <dbl>\\\\\n",
       "\\hline\n",
       "\t LASSO &  1 &  1 & ADL-PER & 1992-11-23 & 2942.520\\\\\n",
       "\t LASSO &  4 &  2 & ADL-PER & 1992-11-30 & 3320.056\\\\\n",
       "\t LASSO &  4 &  3 & ADL-PER & 1992-12-07 & 3115.462\\\\\n",
       "\t LASSO &  4 &  4 & ADL-PER & 1992-12-14 & 3123.974\\\\\n",
       "\t LASSO &  8 &  5 & ADL-PER & 1992-12-21 & 3053.807\\\\\n",
       "\t LASSO &  8 &  6 & ADL-PER & 1992-12-28 & 3263.941\\\\\n",
       "\t LASSO &  8 &  7 & ADL-PER & 1993-01-04 & 3137.612\\\\\n",
       "\t LASSO &  8 &  8 & ADL-PER & 1993-01-11 & 3106.625\\\\\n",
       "\t LASSO & 12 &  9 & ADL-PER & 1993-01-18 & 2998.464\\\\\n",
       "\t LASSO & 12 & 10 & ADL-PER & 1993-01-25 & 3134.010\\\\\n",
       "\t LASSO & 12 & 11 & ADL-PER & 1993-02-01 & 3004.158\\\\\n",
       "\t LASSO & 12 & 12 & ADL-PER & 1993-02-08 & 2978.444\\\\\n",
       "\t LASSO & 16 & 13 & ADL-PER & 1993-02-15 & 2908.999\\\\\n",
       "\t LASSO & 16 & 14 & ADL-PER & 1993-02-22 & 3073.993\\\\\n",
       "\t LASSO & 16 & 15 & ADL-PER & 1993-03-01 & 3096.509\\\\\n",
       "\t LASSO & 16 & 16 & ADL-PER & 1993-03-08 & 3063.370\\\\\n",
       "\t LASSO & 20 & 17 & ADL-PER & 1993-03-15 & 2981.404\\\\\n",
       "\t LASSO & 20 & 18 & ADL-PER & 1993-03-22 & 3134.639\\\\\n",
       "\t LASSO & 20 & 19 & ADL-PER & 1993-03-29 & 3078.839\\\\\n",
       "\t LASSO & 20 & 20 & ADL-PER & 1993-04-05 & 3157.005\\\\\n",
       "\\end{tabular}\n"
      ],
      "text/markdown": [
       "\n",
       "A tibble: 20 × 6\n",
       "\n",
       "| model &lt;chr&gt; | model_forecast_horizon &lt;dbl&gt; | horizon &lt;dbl&gt; | airports &lt;fct&gt; | index &lt;date&gt; | passengers &lt;dbl&gt; |\n",
       "|---|---|---|---|---|---|\n",
       "| LASSO |  1 |  1 | ADL-PER | 1992-11-23 | 2942.520 |\n",
       "| LASSO |  4 |  2 | ADL-PER | 1992-11-30 | 3320.056 |\n",
       "| LASSO |  4 |  3 | ADL-PER | 1992-12-07 | 3115.462 |\n",
       "| LASSO |  4 |  4 | ADL-PER | 1992-12-14 | 3123.974 |\n",
       "| LASSO |  8 |  5 | ADL-PER | 1992-12-21 | 3053.807 |\n",
       "| LASSO |  8 |  6 | ADL-PER | 1992-12-28 | 3263.941 |\n",
       "| LASSO |  8 |  7 | ADL-PER | 1993-01-04 | 3137.612 |\n",
       "| LASSO |  8 |  8 | ADL-PER | 1993-01-11 | 3106.625 |\n",
       "| LASSO | 12 |  9 | ADL-PER | 1993-01-18 | 2998.464 |\n",
       "| LASSO | 12 | 10 | ADL-PER | 1993-01-25 | 3134.010 |\n",
       "| LASSO | 12 | 11 | ADL-PER | 1993-02-01 | 3004.158 |\n",
       "| LASSO | 12 | 12 | ADL-PER | 1993-02-08 | 2978.444 |\n",
       "| LASSO | 16 | 13 | ADL-PER | 1993-02-15 | 2908.999 |\n",
       "| LASSO | 16 | 14 | ADL-PER | 1993-02-22 | 3073.993 |\n",
       "| LASSO | 16 | 15 | ADL-PER | 1993-03-01 | 3096.509 |\n",
       "| LASSO | 16 | 16 | ADL-PER | 1993-03-08 | 3063.370 |\n",
       "| LASSO | 20 | 17 | ADL-PER | 1993-03-15 | 2981.404 |\n",
       "| LASSO | 20 | 18 | ADL-PER | 1993-03-22 | 3134.639 |\n",
       "| LASSO | 20 | 19 | ADL-PER | 1993-03-29 | 3078.839 |\n",
       "| LASSO | 20 | 20 | ADL-PER | 1993-04-05 | 3157.005 |\n",
       "\n"
      ],
      "text/plain": [
       "   model model_forecast_horizon horizon airports index      passengers\n",
       "1  LASSO  1                      1      ADL-PER  1992-11-23 2942.520  \n",
       "2  LASSO  4                      2      ADL-PER  1992-11-30 3320.056  \n",
       "3  LASSO  4                      3      ADL-PER  1992-12-07 3115.462  \n",
       "4  LASSO  4                      4      ADL-PER  1992-12-14 3123.974  \n",
       "5  LASSO  8                      5      ADL-PER  1992-12-21 3053.807  \n",
       "6  LASSO  8                      6      ADL-PER  1992-12-28 3263.941  \n",
       "7  LASSO  8                      7      ADL-PER  1993-01-04 3137.612  \n",
       "8  LASSO  8                      8      ADL-PER  1993-01-11 3106.625  \n",
       "9  LASSO 12                      9      ADL-PER  1993-01-18 2998.464  \n",
       "10 LASSO 12                     10      ADL-PER  1993-01-25 3134.010  \n",
       "11 LASSO 12                     11      ADL-PER  1993-02-01 3004.158  \n",
       "12 LASSO 12                     12      ADL-PER  1993-02-08 2978.444  \n",
       "13 LASSO 16                     13      ADL-PER  1993-02-15 2908.999  \n",
       "14 LASSO 16                     14      ADL-PER  1993-02-22 3073.993  \n",
       "15 LASSO 16                     15      ADL-PER  1993-03-01 3096.509  \n",
       "16 LASSO 16                     16      ADL-PER  1993-03-08 3063.370  \n",
       "17 LASSO 20                     17      ADL-PER  1993-03-15 2981.404  \n",
       "18 LASSO 20                     18      ADL-PER  1993-03-22 3134.639  \n",
       "19 LASSO 20                     19      ADL-PER  1993-03-29 3078.839  \n",
       "20 LASSO 20                     20      ADL-PER  1993-04-05 3157.005  "
      ]
     },
     "metadata": {},
     "output_type": "display_data"
    }
   ],
   "source": [
    "data_reconcile_month[[1]]\n",
    "\n",
    "data_reconcile_week[[1]]"
   ]
  },
  {
   "cell_type": "markdown",
   "metadata": {},
   "source": [
    "### `forecastML::reconcile_forecasts()`\n",
    "\n",
    "* The return value is either (a) a list of reconciled forecasts with `length(forecasts)` if `keep_all = TRUE` or (b) the bottom-level forecast at the most disaggregated level if `keep_all = FALSE`.\n",
    "\n",
    "\n",
    "* If you look closely at the lists above, you'll see that there are 2 weekly forecasts in November 1992 that occur before the bookend forecast start date of our highest level forecast--1992-12-01. These forecasts, correctly, are not included in the forecast reconciliation, but they can be returned with the reconciled forecasts if `keep_non_reconciled = TRUE`. There's also an extra forecast for 1993-04-05 and the same rules apply here."
   ]
  },
  {
   "cell_type": "code",
   "execution_count": 20,
   "metadata": {},
   "outputs": [
    {
     "data": {
      "text/html": [
       "<dl>\n",
       "\t<dt>$`1 week`</dt>\n",
       "\t\t<dd><table>\n",
       "<caption>A data.frame: 17 × 3</caption>\n",
       "<thead>\n",
       "\t<tr><th scope=col>index</th><th scope=col>passengers</th><th scope=col>airports</th></tr>\n",
       "\t<tr><th scope=col>&lt;date&gt;</th><th scope=col>&lt;dbl&gt;</th><th scope=col>&lt;chr&gt;</th></tr>\n",
       "</thead>\n",
       "<tbody>\n",
       "\t<tr><td>1992-12-07</td><td>2620.952</td><td>ADL-PER</td></tr>\n",
       "\t<tr><td>1992-12-14</td><td>2629.465</td><td>ADL-PER</td></tr>\n",
       "\t<tr><td>1992-12-21</td><td>2559.297</td><td>ADL-PER</td></tr>\n",
       "\t<tr><td>1992-12-28</td><td>2769.431</td><td>ADL-PER</td></tr>\n",
       "\t<tr><td>1993-01-04</td><td>2668.451</td><td>ADL-PER</td></tr>\n",
       "\t<tr><td>1993-01-11</td><td>2637.464</td><td>ADL-PER</td></tr>\n",
       "\t<tr><td>1993-01-18</td><td>2529.303</td><td>ADL-PER</td></tr>\n",
       "\t<tr><td>1993-01-25</td><td>2664.849</td><td>ADL-PER</td></tr>\n",
       "\t<tr><td>1993-02-01</td><td>2588.064</td><td>ADL-PER</td></tr>\n",
       "\t<tr><td>1993-02-08</td><td>2562.350</td><td>ADL-PER</td></tr>\n",
       "\t<tr><td>1993-02-15</td><td>2492.905</td><td>ADL-PER</td></tr>\n",
       "\t<tr><td>1993-02-22</td><td>2657.899</td><td>ADL-PER</td></tr>\n",
       "\t<tr><td>1993-03-01</td><td>2425.524</td><td>ADL-PER</td></tr>\n",
       "\t<tr><td>1993-03-08</td><td>2392.385</td><td>ADL-PER</td></tr>\n",
       "\t<tr><td>1993-03-15</td><td>2310.419</td><td>ADL-PER</td></tr>\n",
       "\t<tr><td>1993-03-22</td><td>2463.654</td><td>ADL-PER</td></tr>\n",
       "\t<tr><td>1993-03-29</td><td>2407.854</td><td>ADL-PER</td></tr>\n",
       "</tbody>\n",
       "</table>\n",
       "</dd>\n",
       "\t<dt>$`1 month`</dt>\n",
       "\t\t<dd><table>\n",
       "<caption>A data.frame: 4 × 3</caption>\n",
       "<thead>\n",
       "\t<tr><th scope=col>index</th><th scope=col>passengers</th><th scope=col>airports</th></tr>\n",
       "\t<tr><th scope=col>&lt;date&gt;</th><th scope=col>&lt;dbl&gt;</th><th scope=col>&lt;chr&gt;</th></tr>\n",
       "</thead>\n",
       "<tbody>\n",
       "\t<tr><td>1992-12-01</td><td>10579.15</td><td>ADL-PER</td></tr>\n",
       "\t<tr><td>1993-01-01</td><td>10500.07</td><td>ADL-PER</td></tr>\n",
       "\t<tr><td>1993-02-01</td><td>10301.22</td><td>ADL-PER</td></tr>\n",
       "\t<tr><td>1993-03-01</td><td>11999.83</td><td>ADL-PER</td></tr>\n",
       "</tbody>\n",
       "</table>\n",
       "</dd>\n",
       "</dl>\n"
      ],
      "text/latex": [
       "\\begin{description}\n",
       "\\item[\\$`1 week`] A data.frame: 17 × 3\n",
       "\\begin{tabular}{lll}\n",
       " index & passengers & airports\\\\\n",
       " <date> & <dbl> & <chr>\\\\\n",
       "\\hline\n",
       "\t 1992-12-07 & 2620.952 & ADL-PER\\\\\n",
       "\t 1992-12-14 & 2629.465 & ADL-PER\\\\\n",
       "\t 1992-12-21 & 2559.297 & ADL-PER\\\\\n",
       "\t 1992-12-28 & 2769.431 & ADL-PER\\\\\n",
       "\t 1993-01-04 & 2668.451 & ADL-PER\\\\\n",
       "\t 1993-01-11 & 2637.464 & ADL-PER\\\\\n",
       "\t 1993-01-18 & 2529.303 & ADL-PER\\\\\n",
       "\t 1993-01-25 & 2664.849 & ADL-PER\\\\\n",
       "\t 1993-02-01 & 2588.064 & ADL-PER\\\\\n",
       "\t 1993-02-08 & 2562.350 & ADL-PER\\\\\n",
       "\t 1993-02-15 & 2492.905 & ADL-PER\\\\\n",
       "\t 1993-02-22 & 2657.899 & ADL-PER\\\\\n",
       "\t 1993-03-01 & 2425.524 & ADL-PER\\\\\n",
       "\t 1993-03-08 & 2392.385 & ADL-PER\\\\\n",
       "\t 1993-03-15 & 2310.419 & ADL-PER\\\\\n",
       "\t 1993-03-22 & 2463.654 & ADL-PER\\\\\n",
       "\t 1993-03-29 & 2407.854 & ADL-PER\\\\\n",
       "\\end{tabular}\n",
       "\n",
       "\\item[\\$`1 month`] A data.frame: 4 × 3\n",
       "\\begin{tabular}{lll}\n",
       " index & passengers & airports\\\\\n",
       " <date> & <dbl> & <chr>\\\\\n",
       "\\hline\n",
       "\t 1992-12-01 & 10579.15 & ADL-PER\\\\\n",
       "\t 1993-01-01 & 10500.07 & ADL-PER\\\\\n",
       "\t 1993-02-01 & 10301.22 & ADL-PER\\\\\n",
       "\t 1993-03-01 & 11999.83 & ADL-PER\\\\\n",
       "\\end{tabular}\n",
       "\n",
       "\\end{description}\n"
      ],
      "text/markdown": [
       "$`1 week`\n",
       ":   \n",
       "A data.frame: 17 × 3\n",
       "\n",
       "| index &lt;date&gt; | passengers &lt;dbl&gt; | airports &lt;chr&gt; |\n",
       "|---|---|---|\n",
       "| 1992-12-07 | 2620.952 | ADL-PER |\n",
       "| 1992-12-14 | 2629.465 | ADL-PER |\n",
       "| 1992-12-21 | 2559.297 | ADL-PER |\n",
       "| 1992-12-28 | 2769.431 | ADL-PER |\n",
       "| 1993-01-04 | 2668.451 | ADL-PER |\n",
       "| 1993-01-11 | 2637.464 | ADL-PER |\n",
       "| 1993-01-18 | 2529.303 | ADL-PER |\n",
       "| 1993-01-25 | 2664.849 | ADL-PER |\n",
       "| 1993-02-01 | 2588.064 | ADL-PER |\n",
       "| 1993-02-08 | 2562.350 | ADL-PER |\n",
       "| 1993-02-15 | 2492.905 | ADL-PER |\n",
       "| 1993-02-22 | 2657.899 | ADL-PER |\n",
       "| 1993-03-01 | 2425.524 | ADL-PER |\n",
       "| 1993-03-08 | 2392.385 | ADL-PER |\n",
       "| 1993-03-15 | 2310.419 | ADL-PER |\n",
       "| 1993-03-22 | 2463.654 | ADL-PER |\n",
       "| 1993-03-29 | 2407.854 | ADL-PER |\n",
       "\n",
       "\n",
       "$`1 month`\n",
       ":   \n",
       "A data.frame: 4 × 3\n",
       "\n",
       "| index &lt;date&gt; | passengers &lt;dbl&gt; | airports &lt;chr&gt; |\n",
       "|---|---|---|\n",
       "| 1992-12-01 | 10579.15 | ADL-PER |\n",
       "| 1993-01-01 | 10500.07 | ADL-PER |\n",
       "| 1993-02-01 | 10301.22 | ADL-PER |\n",
       "| 1993-03-01 | 11999.83 | ADL-PER |\n",
       "\n",
       "\n",
       "\n",
       "\n"
      ],
      "text/plain": [
       "$`1 week`\n",
       "        index passengers airports\n",
       "1  1992-12-07   2620.952  ADL-PER\n",
       "2  1992-12-14   2629.465  ADL-PER\n",
       "3  1992-12-21   2559.297  ADL-PER\n",
       "4  1992-12-28   2769.431  ADL-PER\n",
       "5  1993-01-04   2668.451  ADL-PER\n",
       "6  1993-01-11   2637.464  ADL-PER\n",
       "7  1993-01-18   2529.303  ADL-PER\n",
       "8  1993-01-25   2664.849  ADL-PER\n",
       "9  1993-02-01   2588.064  ADL-PER\n",
       "10 1993-02-08   2562.350  ADL-PER\n",
       "11 1993-02-15   2492.905  ADL-PER\n",
       "12 1993-02-22   2657.899  ADL-PER\n",
       "13 1993-03-01   2425.524  ADL-PER\n",
       "14 1993-03-08   2392.385  ADL-PER\n",
       "15 1993-03-15   2310.419  ADL-PER\n",
       "16 1993-03-22   2463.654  ADL-PER\n",
       "17 1993-03-29   2407.854  ADL-PER\n",
       "\n",
       "$`1 month`\n",
       "       index passengers airports\n",
       "1 1992-12-01   10579.15  ADL-PER\n",
       "2 1993-01-01   10500.07  ADL-PER\n",
       "3 1993-02-01   10301.22  ADL-PER\n",
       "4 1993-03-01   11999.83  ADL-PER\n"
      ]
     },
     "metadata": {},
     "output_type": "display_data"
    }
   ],
   "source": [
    "data_reconciled <- vector(\"list\", length(airport_list))\n",
    "\n",
    "for (i in seq_along(airport_list)) {\n",
    "\n",
    "  forecasts <- list(data_reconcile_week[[i]], data_reconcile_month[[i]])\n",
    "\n",
    "  frequency <- c(\"1 week\", \"1 month\")\n",
    "\n",
    "  data_reconciled[[i]] <- forecastML::reconcile_forecasts(forecasts,\n",
    "                                                          frequency = frequency,\n",
    "                                                          index = \"index\",  # Date column.\n",
    "                                                          outcome = \"passengers\",  # Forecast column.\n",
    "                                                          method = \"temporal\",\n",
    "                                                          keep_all = TRUE,  # FALSE returns weekly.\n",
    "                                                          keep_non_reconciled = FALSE\n",
    "                                                          )\n",
    "    \n",
    "  # We'll add the airport to the list of weekly and monthly forecasts for plotting.\n",
    "  data_reconciled[[i]] <- lapply(data_reconciled[[i]], function(x) {x$airports <- airport_list[i]; x})\n",
    "}\n",
    "\n",
    "# Reconciled forecasts for ADL-PER.\n",
    "data_reconciled[[1]]"
   ]
  },
  {
   "cell_type": "markdown",
   "metadata": {},
   "source": [
    "### Check that the forecast reconciliation is working as intended\n",
    "\n",
    "* These values should be equal if `keep_non_reconciled = FALSE`."
   ]
  },
  {
   "cell_type": "code",
   "execution_count": 21,
   "metadata": {},
   "outputs": [
    {
     "data": {
      "text/html": [
       "43380.2669709045"
      ],
      "text/latex": [
       "43380.2669709045"
      ],
      "text/markdown": [
       "43380.2669709045"
      ],
      "text/plain": [
       "[1] 43380.27"
      ]
     },
     "metadata": {},
     "output_type": "display_data"
    },
    {
     "data": {
      "text/html": [
       "43380.2669709045"
      ],
      "text/latex": [
       "43380.2669709045"
      ],
      "text/markdown": [
       "43380.2669709045"
      ],
      "text/plain": [
       "[1] 43380.27"
      ]
     },
     "metadata": {},
     "output_type": "display_data"
    }
   ],
   "source": [
    "# ADL-PER\n",
    "sum(data_reconciled[[1]][[\"1 month\"]]$passengers)\n",
    "\n",
    "sum(data_reconciled[[1]][[\"1 week\"]]$passengers)"
   ]
  },
  {
   "cell_type": "markdown",
   "metadata": {},
   "source": [
    "### Custom plot - Forecasts vs. reconciled forecasts\n",
    "\n",
    "* The cell below has some boilerplate code for combining the historical data, forecasts, and reconciled forecasts for creating a custom plot. There is currently no `plot()` method in `forecastML` that does this."
   ]
  },
  {
   "cell_type": "code",
   "execution_count": 22,
   "metadata": {},
   "outputs": [],
   "source": [
    "#----------\n",
    "data_reconciled <- dplyr::bind_rows(unlist(data_reconciled, recursive = FALSE), .id = \"frequency\")\n",
    "data_reconciled$reconciled <- \"Reconciled\"\n",
    "#----------\n",
    "data_forecasts_week$frequency <- frequency[1]\n",
    "data_forecasts_month$frequency <- frequency[2]\n",
    "\n",
    "data_forecasts <- dplyr::bind_rows(data_forecasts_week, data_forecasts_month)\n",
    "data_forecasts$reconciled <- \"Not reconciled\"\n",
    "#----------\n",
    "data_week$index <- dates\n",
    "\n",
    "data_week$frequency <- frequency[1]\n",
    "data_month$frequency <- frequency[2]\n",
    "\n",
    "data_history <- dplyr::bind_rows(data_week, data_month)\n",
    "\n",
    "data_history$reconciled <- \"Historical\"\n",
    "#----------\n",
    "data_plot <- dplyr::bind_rows(data_forecasts, data_reconciled, data_history)\n",
    "\n",
    "data_plot <- dplyr::filter(data_plot, lubridate::year(index) >= 1992)"
   ]
  },
  {
   "cell_type": "code",
   "execution_count": 23,
   "metadata": {},
   "outputs": [
    {
     "data": {
      "image/png": "[encoded data removed]",
      "text/plain": [
       "plot without title"
      ]
     },
     "metadata": {
      "image/png": {
       "height": 360,
       "width": 720
      },
      "text/plain": {
       "height": 360,
       "width": 720
      }
     },
     "output_type": "display_data"
    }
   ],
   "source": [
    "p <- ggplot()\n",
    "p <- p + geom_line(data = data_plot[data_plot$reconciled == \"Historical\", ], aes(index, passengers, color = airports))\n",
    "p <- p + geom_line(data = data_plot[data_plot$reconciled != \"Historical\", ], aes(index, passengers, color = airports, linetype = reconciled), size = 1.05)\n",
    "p <- p + facet_wrap(~ frequency, scales = \"free_y\")\n",
    "p <- p + theme_bw() + theme(\n",
    "    plot.title = element_text(size = 16, face = \"bold\"),\n",
    "    axis.title = element_text(size = 14, face = \"bold\"),\n",
    "    axis.text = element_text(size = 12),\n",
    "    legend.text = element_text(size = 12)\n",
    "  )\n",
    "p <- p + xlab(\"Index\") + ylab(\"Outcome (passengers)\") + labs(color = \"Airport\", linetype = \"Forecast\")\n",
    "p\n",
    "\n",
    "ggsave(file = \"forecast_comparison.png\", width = 9, height = 6)"
   ]
  },
  {
   "cell_type": "markdown",
   "metadata": {},
   "source": [
    "***\n",
    "\n",
    "## Bonus Analysis!\n",
    "\n",
    "* At this point, we have an ML model that forecasts at the weekly level and a statistical model that forecasts at the monthly level. Both are forecasting ~4 months into the future.\n",
    "\n",
    "\n",
    "* What happens if we'd like to quickly **incorporate a judgment forecast** into the mix?"
   ]
  },
  {
   "cell_type": "markdown",
   "metadata": {},
   "source": [
    "### Taking stock of where we are at\n",
    "\n",
    "* Let's make this scenario of adding a judgment forecast specific to ADL-PER."
   ]
  },
  {
   "cell_type": "code",
   "execution_count": 24,
   "metadata": {},
   "outputs": [],
   "source": [
    "forecast_start_date <- min(data_reconcile_month[[1]]$index)\n",
    "forecast_stop_date <- max(data_reconcile_month[[1]]$index) %m+% months(1) - 1\n",
    "\n",
    "# From our dplyr::group_split(), index [[1]] is \"ADL-PER\".\n",
    "monthly_forecast <- sum(data_reconcile_month[[1]][, \"passengers\"])\n",
    "\n",
    "weekly_forecast <- sum(data_reconcile_week[[1]][][data_reconcile_week[[1]]$index >= forecast_start_date & \n",
    "                                                  data_reconcile_week[[1]]$index <= forecast_stop_date, \"passengers\"])\n",
    "\n",
    "reconciled_forecast <- sum(data_reconciled[data_reconciled$airports == \"ADL-PER\" & \n",
    "                                           data_reconciled$frequency == frequency[1], \"passengers\"])"
   ]
  },
  {
   "cell_type": "code",
   "execution_count": 25,
   "metadata": {},
   "outputs": [
    {
     "data": {
      "text/html": [
       "'The 4-month-ahead total for ADL-PER with monthly forecasts is: 34506'"
      ],
      "text/latex": [
       "'The 4-month-ahead total for ADL-PER with monthly forecasts is: 34506'"
      ],
      "text/markdown": [
       "'The 4-month-ahead total for ADL-PER with monthly forecasts is: 34506'"
      ],
      "text/plain": [
       "[1] \"The 4-month-ahead total for ADL-PER with monthly forecasts is: 34506\""
      ]
     },
     "metadata": {},
     "output_type": "display_data"
    },
    {
     "data": {
      "text/html": [
       "'The 4-month-ahead total for ADL-PER with weekly forecasts is: 52254'"
      ],
      "text/latex": [
       "'The 4-month-ahead total for ADL-PER with weekly forecasts is: 52254'"
      ],
      "text/markdown": [
       "'The 4-month-ahead total for ADL-PER with weekly forecasts is: 52254'"
      ],
      "text/plain": [
       "[1] \"The 4-month-ahead total for ADL-PER with weekly forecasts is: 52254\""
      ]
     },
     "metadata": {},
     "output_type": "display_data"
    },
    {
     "data": {
      "text/html": [
       "'The 4-month-ahead total for ADL-PER with reconciled forecasts is: 43380'"
      ],
      "text/latex": [
       "'The 4-month-ahead total for ADL-PER with reconciled forecasts is: 43380'"
      ],
      "text/markdown": [
       "'The 4-month-ahead total for ADL-PER with reconciled forecasts is: 43380'"
      ],
      "text/plain": [
       "[1] \"The 4-month-ahead total for ADL-PER with reconciled forecasts is: 43380\""
      ]
     },
     "metadata": {},
     "output_type": "display_data"
    }
   ],
   "source": [
    "paste0(\"The 4-month-ahead total for ADL-PER with monthly forecasts is: \", round(monthly_forecast))\n",
    "paste0(\"The 4-month-ahead total for ADL-PER with weekly forecasts is: \", round(weekly_forecast))\n",
    "paste0(\"The 4-month-ahead total for ADL-PER with reconciled forecasts is: \", round(reconciled_forecast))"
   ]
  },
  {
   "cell_type": "markdown",
   "metadata": {},
   "source": [
    "### Adding a judgment forecast\n",
    "\n",
    "* If someone comes in with a 4-month-out judgment forecast for ADL-PER at 60,000, what needs to be done? Simply make a data.frame like below with a date column and forecast column matching the weekly and monthly datasets."
   ]
  },
  {
   "cell_type": "code",
   "execution_count": 26,
   "metadata": {},
   "outputs": [
    {
     "data": {
      "text/html": [
       "<table>\n",
       "<caption>A data.frame: 1 × 2</caption>\n",
       "<thead>\n",
       "\t<tr><th scope=col>index</th><th scope=col>passengers</th></tr>\n",
       "\t<tr><th scope=col>&lt;date&gt;</th><th scope=col>&lt;int&gt;</th></tr>\n",
       "</thead>\n",
       "<tbody>\n",
       "\t<tr><td>1992-12-01</td><td>60000</td></tr>\n",
       "</tbody>\n",
       "</table>\n"
      ],
      "text/latex": [
       "A data.frame: 1 × 2\n",
       "\\begin{tabular}{ll}\n",
       " index & passengers\\\\\n",
       " <date> & <int>\\\\\n",
       "\\hline\n",
       "\t 1992-12-01 & 60000\\\\\n",
       "\\end{tabular}\n"
      ],
      "text/markdown": [
       "\n",
       "A data.frame: 1 × 2\n",
       "\n",
       "| index &lt;date&gt; | passengers &lt;int&gt; |\n",
       "|---|---|\n",
       "| 1992-12-01 | 60000 |\n",
       "\n"
      ],
      "text/plain": [
       "  index      passengers\n",
       "1 1992-12-01 60000     "
      ]
     },
     "metadata": {},
     "output_type": "display_data"
    }
   ],
   "source": [
    "data_reconcile_quarter <- data.frame(\"index\" = as.Date(\"1992-12-01\"), \"passengers\" = 60000L)\n",
    "\n",
    "data_reconcile_quarter"
   ]
  },
  {
   "cell_type": "markdown",
   "metadata": {},
   "source": [
    "### Run `forecastML::reconcile_forecasts()`"
   ]
  },
  {
   "cell_type": "code",
   "execution_count": 27,
   "metadata": {},
   "outputs": [],
   "source": [
    "# ADL-PER: Unreconciled weekly, monthly, and quarterly forecasts are the inputs.\n",
    "forecasts <- list(data_reconcile_week[[1]], data_reconcile_month[[1]], data_reconcile_quarter)\n",
    "\n",
    "frequency <- c(\"1 week\", \"1 month\", \"4 months\")\n",
    "\n",
    "reconciled_forecast_ADL_PER <- forecastML::reconcile_forecasts(forecasts,\n",
    "                                                               frequency = frequency,\n",
    "                                                               index = \"index\",\n",
    "                                                               outcome = \"passengers\",\n",
    "                                                               method = \"temporal\",\n",
    "                                                               keep_all = TRUE,\n",
    "                                                               keep_non_reconciled = FALSE\n",
    "                                                               )"
   ]
  },
  {
   "cell_type": "markdown",
   "metadata": {},
   "source": [
    "* **The new 4-monthly estimate of 60,000 raised the reconciled total forecast from 43,380 to 48,920.**"
   ]
  },
  {
   "cell_type": "code",
   "execution_count": 28,
   "metadata": {},
   "outputs": [
    {
     "data": {
      "text/html": [
       "<table>\n",
       "<caption>A data.frame: 1 × 2</caption>\n",
       "<thead>\n",
       "\t<tr><th scope=col>index</th><th scope=col>passengers</th></tr>\n",
       "\t<tr><th scope=col>&lt;date&gt;</th><th scope=col>&lt;dbl&gt;</th></tr>\n",
       "</thead>\n",
       "<tbody>\n",
       "\t<tr><td>1992-12-01</td><td>48920.18</td></tr>\n",
       "</tbody>\n",
       "</table>\n"
      ],
      "text/latex": [
       "A data.frame: 1 × 2\n",
       "\\begin{tabular}{ll}\n",
       " index & passengers\\\\\n",
       " <date> & <dbl>\\\\\n",
       "\\hline\n",
       "\t 1992-12-01 & 48920.18\\\\\n",
       "\\end{tabular}\n"
      ],
      "text/markdown": [
       "\n",
       "A data.frame: 1 × 2\n",
       "\n",
       "| index &lt;date&gt; | passengers &lt;dbl&gt; |\n",
       "|---|---|\n",
       "| 1992-12-01 | 48920.18 |\n",
       "\n"
      ],
      "text/plain": [
       "  index      passengers\n",
       "1 1992-12-01 48920.18  "
      ]
     },
     "metadata": {},
     "output_type": "display_data"
    }
   ],
   "source": [
    "reconciled_forecast_ADL_PER[[\"4 months\"]]"
   ]
  }
 ],
 "metadata": {
  "kernelspec": {
   "display_name": "R",
   "language": "R",
   "name": "ir"
  },
  "language_info": {
   "codemirror_mode": "r",
   "file_extension": ".r",
   "mimetype": "text/x-r-source",
   "name": "R",
   "pygments_lexer": "r",
   "version": "3.6.2"
  }
 },
 "nbformat": 4,
 "nbformat_minor": 4
}
